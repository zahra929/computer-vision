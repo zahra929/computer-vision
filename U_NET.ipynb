{
  "nbformat": 4,
  "nbformat_minor": 0,
  "metadata": {
    "accelerator": "GPU",
    "colab": {
      "name": "U-NET.ipynb",
      "provenance": [],
      "collapsed_sections": [],
      "authorship_tag": "ABX9TyNcVpRP2VFedQbokWpqJ89c",
      "include_colab_link": true
    },
    "kernelspec": {
      "display_name": "Python 3",
      "name": "python3"
    }
  },
  "cells": [
    {
      "cell_type": "markdown",
      "metadata": {
        "id": "view-in-github",
        "colab_type": "text"
      },
      "source": [
        "<a href=\"https://colab.research.google.com/github/zahra929/computer-vision/blob/master/U_NET.ipynb\" target=\"_parent\"><img src=\"https://colab.research.google.com/assets/colab-badge.svg\" alt=\"Open In Colab\"/></a>"
      ]
    },
    {
      "cell_type": "code",
      "metadata": {
        "id": "v2TYzcASYVaH"
      },
      "source": [
        "import tensorflow as tf\r\n",
        "import os\r\n",
        "import random\r\n",
        "import numpy as np\r\n",
        "\r\n",
        "from tqdm import tqdm\r\n",
        "\r\n",
        "from skimage.io import imread, imshow\r\n",
        "from skimage.transform import resize\r\n",
        "import matplotlib.pyplot as plt"
      ],
      "execution_count": null,
      "outputs": []
    },
    {
      "cell_type": "code",
      "metadata": {
        "id": "BEjVwj1oYkc-"
      },
      "source": [
        "seed =42\r\n",
        "np.random.seed = seed\r\n",
        "\r\n",
        "IMG_WIDTH = 128\r\n",
        "IMG_HEIGHT = 128\r\n",
        "IMG_CHANNELS = 3 "
      ],
      "execution_count": null,
      "outputs": []
    },
    {
      "cell_type": "code",
      "metadata": {
        "colab": {
          "base_uri": "https://localhost:8080/"
        },
        "id": "5SZIEEwsYzZL",
        "outputId": "ebf828b3-1808-4ef6-dac4-dc915b9eb145"
      },
      "source": [
        "from google.colab import drive\r\n",
        "drive.mount('/content/drive')"
      ],
      "execution_count": null,
      "outputs": [
        {
          "output_type": "stream",
          "text": [
            "Mounted at /content/drive\n"
          ],
          "name": "stdout"
        }
      ]
    },
    {
      "cell_type": "code",
      "metadata": {
        "colab": {
          "base_uri": "https://localhost:8080/"
        },
        "id": "9fHDRCIxY3h8",
        "outputId": "a3942af1-b862-4369-f329-5e7ccbeae641"
      },
      "source": [
        "TRAIN_PATH='/content/drive/My Drive/dents/train'\r\n",
        "TEST_PATH='/content/drive/My Drive/dents/test'\r\n",
        "\r\n",
        "train_ids= next(os.walk(TRAIN_PATH))[1]\r\n",
        "test_ids= next(os.walk(TEST_PATH))[1]\r\n",
        "\r\n",
        "print(train_ids)"
      ],
      "execution_count": null,
      "outputs": [
        {
          "output_type": "stream",
          "text": [
            "['18', '1', '10', '16', '17', '11', '13', '12', '15', '14', '22', '24', '20', '21', '2', '25', '23', '19', '27', '26', '32', '31', '33', '36', '3', '34', '29', '28', '30', '35', '42', '44', '43', '37', '40', '38', '39', '45', '4', '41', '52', '5', '47', '50', '49', '6', '51', '7', '48', '46', '8', '9']\n"
          ],
          "name": "stdout"
        }
      ]
    },
    {
      "cell_type": "code",
      "metadata": {
        "colab": {
          "base_uri": "https://localhost:8080/"
        },
        "id": "xzpfTsVIdT-b",
        "outputId": "9646ce71-274f-46ce-bbde-25d27212809f"
      },
      "source": [
        "X_train = np.zeros ((len(train_ids),IMG_HEIGHT,IMG_WIDTH , IMG_CHANNELS), dtype=np.uint8)\r\n",
        "Y_train = np.zeros(( len(train_ids),IMG_HEIGHT,IMG_WIDTH , 1 ),dtype=np.bool)\r\n",
        "\r\n",
        "print ('resizing training images and masks')\r\n",
        "for n, id_ in tqdm (enumerate(train_ids), total=len(train_ids)):\r\n",
        "     path = TRAIN_PATH + '/' +id_\r\n",
        "     img = imread(path + '/images/'+ id_ + '.jpg')[:,:,:IMG_CHANNELS]\r\n",
        "     img= resize (img, (IMG_HEIGHT,IMG_WIDTH), mode='constant', preserve_range=True)\r\n",
        "     X_train[n] = img\r\n",
        "     mask = np.zeros((IMG_HEIGHT,IMG_WIDTH , 1 ),dtype=np.bool)\r\n",
        "     for mask_file in next(os.walk(path +'/masks/'))[2]:\r\n",
        "         mask_ = imread(path + '/masks/'+ mask_file)\r\n",
        "         mask_ = np.expand_dims(resize (mask_, (IMG_HEIGHT,IMG_WIDTH), mode='constant', preserve_range=True),axis=-1)\r\n",
        "         mask = np.maximum(mask, mask_)\r\n",
        "     Y_train[n] = mask \r\n"
      ],
      "execution_count": null,
      "outputs": [
        {
          "output_type": "stream",
          "text": [
            "\r  0%|          | 0/52 [00:00<?, ?it/s]"
          ],
          "name": "stderr"
        },
        {
          "output_type": "stream",
          "text": [
            "resizing training images and masks\n"
          ],
          "name": "stdout"
        },
        {
          "output_type": "stream",
          "text": [
            "100%|██████████| 52/52 [02:16<00:00,  2.63s/it]\n"
          ],
          "name": "stderr"
        }
      ]
    },
    {
      "cell_type": "code",
      "metadata": {
        "colab": {
          "base_uri": "https://localhost:8080/"
        },
        "id": "OL18Rdi2nKt9",
        "outputId": "f8a732a9-d59e-4c3f-ed95-2347b5795f4b"
      },
      "source": [
        "#test images\r\n",
        "\r\n",
        "X_test = np.zeros ((len(test_ids),IMG_HEIGHT,IMG_WIDTH, IMG_CHANNELS), dtype=np.uint8)\r\n",
        "sizes_test= []\r\n",
        "\r\n",
        "print ('resizing test images')\r\n",
        "for n, id_ in tqdm (enumerate(test_ids), total=len(test_ids)):\r\n",
        "     path = TEST_PATH + '/' +id_\r\n",
        "     img = imread(path + '/images/'+ id_ + '.jpg')[:,:,:IMG_CHANNELS]\r\n",
        "     sizes_test.append([img.shape[0], img.shape[1]])\r\n",
        "     img= resize (img, (IMG_WIDTH, IMG_HEIGHT), mode='constant', preserve_range=True)\r\n",
        "     X_test[n] = img\r\n",
        "\r\n",
        "print('done')"
      ],
      "execution_count": null,
      "outputs": [
        {
          "output_type": "stream",
          "text": [
            "\r  0%|          | 0/6 [00:00<?, ?it/s]"
          ],
          "name": "stderr"
        },
        {
          "output_type": "stream",
          "text": [
            "resizing test images\n"
          ],
          "name": "stdout"
        },
        {
          "output_type": "stream",
          "text": [
            "100%|██████████| 6/6 [00:22<00:00,  3.83s/it]"
          ],
          "name": "stderr"
        },
        {
          "output_type": "stream",
          "text": [
            "done\n"
          ],
          "name": "stdout"
        },
        {
          "output_type": "stream",
          "text": [
            "\n"
          ],
          "name": "stderr"
        }
      ]
    },
    {
      "cell_type": "markdown",
      "metadata": {
        "id": "NAVa8M-CbW2l"
      },
      "source": [
        "build the model"
      ]
    },
    {
      "cell_type": "code",
      "metadata": {
        "colab": {
          "base_uri": "https://localhost:8080/",
          "height": 315
        },
        "id": "lEZlW8F4uxnk",
        "outputId": "cb419a0c-ea90-4760-c088-14d00b8f1d40"
      },
      "source": [
        "image_x= random.randint(0, len(train_ids))\r\n",
        "imshow(np.squeeze(Y_train[image_x]))\r\n",
        "plt.show"
      ],
      "execution_count": null,
      "outputs": [
        {
          "output_type": "execute_result",
          "data": {
            "text/plain": [
              "<function matplotlib.pyplot.show>"
            ]
          },
          "metadata": {
            "tags": []
          },
          "execution_count": 7
        },
        {
          "output_type": "display_data",
          "data": {
            "image/png": "[encoded data removed]",
            "text/plain": [
              "<Figure size 432x288 with 1 Axes>"
            ]
          },
          "metadata": {
            "tags": []
          }
        }
      ]
    },
    {
      "cell_type": "markdown",
      "metadata": {
        "id": "SUemOu_-b0JE"
      },
      "source": [
        "contraction path"
      ]
    },
    {
      "cell_type": "code",
      "metadata": {
        "colab": {
          "base_uri": "https://localhost:8080/"
        },
        "id": "3X7UVXIub3GU",
        "outputId": "5449ca7d-cf3a-4807-89f8-76c75b576d66"
      },
      "source": [
        "inputs = tf.keras.layers.Input((IMG_HEIGHT,IMG_WIDTH, IMG_CHANNELS))\r\n",
        "s = tf.keras.layers.Lambda(lambda x: x /255)(inputs)\r\n",
        "\r\n",
        "c1= tf.keras.layers.Conv2D (16 ,(3,3), activation='relu', kernel_initializer='he_normal', padding='same')(s)\r\n",
        "c1 = tf.keras.layers.Dropout(0.1)(c1)\r\n",
        "c1= tf.keras.layers.Conv2D (16 ,(3,3), activation='relu', kernel_initializer='he_normal', padding='same')(c1)\r\n",
        "p1 = tf.keras.layers.MaxPooling2D(2, 2)(c1)\r\n",
        "\r\n",
        "c2= tf.keras.layers.Conv2D (32 ,(3,3), activation='relu', kernel_initializer='he_normal', padding='same')(p1)\r\n",
        "c2 = tf.keras.layers.Dropout(0.1)(c2)\r\n",
        "c2= tf.keras.layers.Conv2D (32 ,(3,3), activation='relu', kernel_initializer='he_normal', padding='same')(c2)\r\n",
        "p2 = tf.keras.layers.MaxPooling2D(2, 2)(c2)\r\n",
        "\r\n",
        "c3= tf.keras.layers.Conv2D (64 ,(3,3), activation='relu', kernel_initializer='he_normal', padding='same')(p2)\r\n",
        "c3 = tf.keras.layers.Dropout(0.1)(c3)\r\n",
        "c3= tf.keras.layers.Conv2D (64 ,(3,3), activation='relu', kernel_initializer='he_normal', padding='same')(c3)\r\n",
        "p3 = tf.keras.layers.MaxPooling2D(2, 2)(c3)\r\n",
        "\r\n",
        "\r\n",
        "c4= tf.keras.layers.Conv2D (128 ,(3,3), activation='relu', kernel_initializer='he_normal', padding='same')(p3)\r\n",
        "c4 = tf.keras.layers.Dropout(0.1)(c4)\r\n",
        "c4= tf.keras.layers.Conv2D (128 ,(3,3), activation='relu', kernel_initializer='he_normal', padding='same')(c4)\r\n",
        "p4 = tf.keras.layers.MaxPooling2D(2, 2)(c4)\r\n",
        "\r\n",
        "c5= tf.keras.layers.Conv2D (256 ,(3,3), activation='relu', kernel_initializer='he_normal', padding='same')(p4)\r\n",
        "c5 = tf.keras.layers.Dropout(0.1)(c5)\r\n",
        "c5= tf.keras.layers.Conv2D (256 ,(3,3), activation='relu', kernel_initializer='he_normal', padding='same')(c5)\r\n",
        "\r\n",
        "#Expansive path\r\n",
        "\r\n",
        "u6= tf.keras.layers.Conv2DTranspose (128, (2,2), strides=(2, 2), padding='same')(c5)\r\n",
        "u6 = tf.keras.layers.concatenate([u6,c4])\r\n",
        "c6= tf.keras.layers.Conv2D (128 ,(3,3), activation='relu', kernel_initializer='he_normal', padding='same')(u6)\r\n",
        "c6= tf.keras.layers.Dropout(0.2)(c6)\r\n",
        "c6= tf.keras.layers.Conv2D (128 ,(3,3), activation='relu', kernel_initializer='he_normal', padding='same')(c6)\r\n",
        "\r\n",
        "u7= tf.keras.layers.Conv2DTranspose (64 ,(2,2), strides=(2,2), padding='same')(c6)\r\n",
        "u7 = tf.keras.layers.concatenate([u7,c3])\r\n",
        "c7= tf.keras.layers.Conv2D (64,(3,3), activation='relu', kernel_initializer='he_normal', padding='same')(u7)\r\n",
        "c7= tf.keras.layers.Dropout(0.2)(c7)\r\n",
        "c7= tf.keras.layers.Conv2D (64 ,(3,3), activation='relu', kernel_initializer='he_normal', padding='same')(c7)\r\n",
        "\r\n",
        "u8= tf.keras.layers.Conv2DTranspose (32 ,(2,2), strides=(2,2), padding='same')(c7)\r\n",
        "u8 = tf.keras.layers.concatenate([u8,c2])\r\n",
        "c8= tf.keras.layers.Conv2D (32 ,(3,3), activation='relu', kernel_initializer='he_normal', padding='same')(u8)\r\n",
        "c8= tf.keras.layers.Dropout(0.2)(c8)\r\n",
        "c8= tf.keras.layers.Conv2D (32 ,(3,3), activation='relu', kernel_initializer='he_normal', padding='same')(c8)\r\n",
        "\r\n",
        "u9= tf.keras.layers.Conv2DTranspose (16 ,(2,2), strides=(2,2), padding='same')(c8)\r\n",
        "u9 = tf.keras.layers.concatenate([u9,c1], axis=3)\r\n",
        "c9= tf.keras.layers.Conv2D (16 ,(3,3), activation='relu', kernel_initializer='he_normal', padding='same')(u9)\r\n",
        "c9= tf.keras.layers.Dropout(0.2)(c9)\r\n",
        "c9= tf.keras.layers.Conv2D (16 ,(3,3), activation='relu', kernel_initializer='he_normal', padding='same')(c9)\r\n",
        "\r\n",
        "outputs = tf.keras.layers.Conv2D(1,(1,1), activation='sigmoid')(c9)\r\n",
        "\r\n",
        "model = tf.keras.Model(inputs=[inputs], outputs=[outputs])\r\n",
        "model.compile(optimizer='adam', loss='binary_crossentropy',metrics=['accuracy'])\r\n",
        "model.summary()\r\n"
      ],
      "execution_count": null,
      "outputs": [
        {
          "output_type": "stream",
          "text": [
            "Model: \"model\"\n",
            "__________________________________________________________________________________________________\n",
            "Layer (type)                    Output Shape         Param #     Connected to                     \n",
            "==================================================================================================\n",
            "input_1 (InputLayer)            [(None, 128, 128, 3) 0                                            \n",
            "__________________________________________________________________________________________________\n",
            "lambda (Lambda)                 (None, 128, 128, 3)  0           input_1[0][0]                    \n",
            "__________________________________________________________________________________________________\n",
            "conv2d (Conv2D)                 (None, 128, 128, 16) 448         lambda[0][0]                     \n",
            "__________________________________________________________________________________________________\n",
            "dropout (Dropout)               (None, 128, 128, 16) 0           conv2d[0][0]                     \n",
            "__________________________________________________________________________________________________\n",
            "conv2d_1 (Conv2D)               (None, 128, 128, 16) 2320        dropout[0][0]                    \n",
            "__________________________________________________________________________________________________\n",
            "max_pooling2d (MaxPooling2D)    (None, 64, 64, 16)   0           conv2d_1[0][0]                   \n",
            "__________________________________________________________________________________________________\n",
            "conv2d_2 (Conv2D)               (None, 64, 64, 32)   4640        max_pooling2d[0][0]              \n",
            "__________________________________________________________________________________________________\n",
            "dropout_1 (Dropout)             (None, 64, 64, 32)   0           conv2d_2[0][0]                   \n",
            "__________________________________________________________________________________________________\n",
            "conv2d_3 (Conv2D)               (None, 64, 64, 32)   9248        dropout_1[0][0]                  \n",
            "__________________________________________________________________________________________________\n",
            "max_pooling2d_1 (MaxPooling2D)  (None, 32, 32, 32)   0           conv2d_3[0][0]                   \n",
            "__________________________________________________________________________________________________\n",
            "conv2d_4 (Conv2D)               (None, 32, 32, 64)   18496       max_pooling2d_1[0][0]            \n",
            "__________________________________________________________________________________________________\n",
            "dropout_2 (Dropout)             (None, 32, 32, 64)   0           conv2d_4[0][0]                   \n",
            "__________________________________________________________________________________________________\n",
            "conv2d_5 (Conv2D)               (None, 32, 32, 64)   36928       dropout_2[0][0]                  \n",
            "__________________________________________________________________________________________________\n",
            "max_pooling2d_2 (MaxPooling2D)  (None, 16, 16, 64)   0           conv2d_5[0][0]                   \n",
            "__________________________________________________________________________________________________\n",
            "conv2d_6 (Conv2D)               (None, 16, 16, 128)  73856       max_pooling2d_2[0][0]            \n",
            "__________________________________________________________________________________________________\n",
            "dropout_3 (Dropout)             (None, 16, 16, 128)  0           conv2d_6[0][0]                   \n",
            "__________________________________________________________________________________________________\n",
            "conv2d_7 (Conv2D)               (None, 16, 16, 128)  147584      dropout_3[0][0]                  \n",
            "__________________________________________________________________________________________________\n",
            "max_pooling2d_3 (MaxPooling2D)  (None, 8, 8, 128)    0           conv2d_7[0][0]                   \n",
            "__________________________________________________________________________________________________\n",
            "conv2d_8 (Conv2D)               (None, 8, 8, 256)    295168      max_pooling2d_3[0][0]            \n",
            "__________________________________________________________________________________________________\n",
            "dropout_4 (Dropout)             (None, 8, 8, 256)    0           conv2d_8[0][0]                   \n",
            "__________________________________________________________________________________________________\n",
            "conv2d_9 (Conv2D)               (None, 8, 8, 256)    590080      dropout_4[0][0]                  \n",
            "__________________________________________________________________________________________________\n",
            "conv2d_transpose (Conv2DTranspo (None, 16, 16, 128)  131200      conv2d_9[0][0]                   \n",
            "__________________________________________________________________________________________________\n",
            "concatenate (Concatenate)       (None, 16, 16, 256)  0           conv2d_transpose[0][0]           \n",
            "                                                                 conv2d_7[0][0]                   \n",
            "__________________________________________________________________________________________________\n",
            "conv2d_10 (Conv2D)              (None, 16, 16, 128)  295040      concatenate[0][0]                \n",
            "__________________________________________________________________________________________________\n",
            "dropout_5 (Dropout)             (None, 16, 16, 128)  0           conv2d_10[0][0]                  \n",
            "__________________________________________________________________________________________________\n",
            "conv2d_11 (Conv2D)              (None, 16, 16, 128)  147584      dropout_5[0][0]                  \n",
            "__________________________________________________________________________________________________\n",
            "conv2d_transpose_1 (Conv2DTrans (None, 32, 32, 64)   32832       conv2d_11[0][0]                  \n",
            "__________________________________________________________________________________________________\n",
            "concatenate_1 (Concatenate)     (None, 32, 32, 128)  0           conv2d_transpose_1[0][0]         \n",
            "                                                                 conv2d_5[0][0]                   \n",
            "__________________________________________________________________________________________________\n",
            "conv2d_12 (Conv2D)              (None, 32, 32, 64)   73792       concatenate_1[0][0]              \n",
            "__________________________________________________________________________________________________\n",
            "dropout_6 (Dropout)             (None, 32, 32, 64)   0           conv2d_12[0][0]                  \n",
            "__________________________________________________________________________________________________\n",
            "conv2d_13 (Conv2D)              (None, 32, 32, 64)   36928       dropout_6[0][0]                  \n",
            "__________________________________________________________________________________________________\n",
            "conv2d_transpose_2 (Conv2DTrans (None, 64, 64, 32)   8224        conv2d_13[0][0]                  \n",
            "__________________________________________________________________________________________________\n",
            "concatenate_2 (Concatenate)     (None, 64, 64, 64)   0           conv2d_transpose_2[0][0]         \n",
            "                                                                 conv2d_3[0][0]                   \n",
            "__________________________________________________________________________________________________\n",
            "conv2d_14 (Conv2D)              (None, 64, 64, 32)   18464       concatenate_2[0][0]              \n",
            "__________________________________________________________________________________________________\n",
            "dropout_7 (Dropout)             (None, 64, 64, 32)   0           conv2d_14[0][0]                  \n",
            "__________________________________________________________________________________________________\n",
            "conv2d_15 (Conv2D)              (None, 64, 64, 32)   9248        dropout_7[0][0]                  \n",
            "__________________________________________________________________________________________________\n",
            "conv2d_transpose_3 (Conv2DTrans (None, 128, 128, 16) 2064        conv2d_15[0][0]                  \n",
            "__________________________________________________________________________________________________\n",
            "concatenate_3 (Concatenate)     (None, 128, 128, 32) 0           conv2d_transpose_3[0][0]         \n",
            "                                                                 conv2d_1[0][0]                   \n",
            "__________________________________________________________________________________________________\n",
            "conv2d_16 (Conv2D)              (None, 128, 128, 16) 4624        concatenate_3[0][0]              \n",
            "__________________________________________________________________________________________________\n",
            "dropout_8 (Dropout)             (None, 128, 128, 16) 0           conv2d_16[0][0]                  \n",
            "__________________________________________________________________________________________________\n",
            "conv2d_17 (Conv2D)              (None, 128, 128, 16) 2320        dropout_8[0][0]                  \n",
            "__________________________________________________________________________________________________\n",
            "conv2d_18 (Conv2D)              (None, 128, 128, 1)  17          conv2d_17[0][0]                  \n",
            "==================================================================================================\n",
            "Total params: 1,941,105\n",
            "Trainable params: 1,941,105\n",
            "Non-trainable params: 0\n",
            "__________________________________________________________________________________________________\n"
          ],
          "name": "stdout"
        }
      ]
    },
    {
      "cell_type": "code",
      "metadata": {
        "colab": {
          "background_save": true
        },
        "id": "PIXkS7LFyTHD",
        "outputId": "33b7de09-f471-4af7-a9a0-017250c90bf6"
      },
      "source": [
        "checkpointer = tf.keras.callbacks.ModelCheckpoint('model_for_nuclei.h5', verbose=1, save_best_only=True )\r\n",
        "\r\n",
        "callbacks = [\r\n",
        "        tf.keras.callbacks.EarlyStopping(patience=3, monitor='val_loss'),\r\n",
        "        tf.keras.callbacks.TensorBoard(log_dir='logs'),\r\n",
        "        checkpointer]\r\n",
        "\r\n",
        "results = model.fit(X_train, Y_train, validation_split=0.1, batch_size=16, epochs= 100, callbacks=callbacks)"
      ],
      "execution_count": null,
      "outputs": [
        {
          "output_type": "stream",
          "text": [
            "Epoch 1/100\n",
            "3/3 [==============================] - 10s 740ms/step - loss: 0.4748 - accuracy: 0.9219 - val_loss: 0.2846 - val_accuracy: 0.9557\n",
            "\n",
            "Epoch 00001: val_loss improved from inf to 0.28463, saving model to model_for_nuclei.h5\n",
            "Epoch 2/100\n",
            "3/3 [==============================] - 0s 57ms/step - loss: 0.2839 - accuracy: 0.9558 - val_loss: 0.3087 - val_accuracy: 0.9557\n",
            "\n",
            "Epoch 00002: val_loss did not improve from 0.28463\n",
            "Epoch 3/100\n",
            "3/3 [==============================] - 0s 51ms/step - loss: 0.2884 - accuracy: 0.9567 - val_loss: 0.2710 - val_accuracy: 0.9557\n",
            "\n",
            "Epoch 00003: val_loss improved from 0.28463 to 0.27101, saving model to model_for_nuclei.h5\n",
            "Epoch 4/100\n",
            "3/3 [==============================] - 0s 51ms/step - loss: 0.2619 - accuracy: 0.9550 - val_loss: 0.2674 - val_accuracy: 0.9557\n",
            "\n",
            "Epoch 00004: val_loss improved from 0.27101 to 0.26738, saving model to model_for_nuclei.h5\n",
            "Epoch 5/100\n",
            "3/3 [==============================] - 0s 52ms/step - loss: 0.2596 - accuracy: 0.9564 - val_loss: 0.2735 - val_accuracy: 0.9557\n",
            "\n",
            "Epoch 00005: val_loss did not improve from 0.26738\n",
            "Epoch 6/100\n",
            "3/3 [==============================] - 0s 50ms/step - loss: 0.2617 - accuracy: 0.9558 - val_loss: 0.2632 - val_accuracy: 0.9557\n",
            "\n",
            "Epoch 00006: val_loss improved from 0.26738 to 0.26321, saving model to model_for_nuclei.h5\n",
            "Epoch 7/100\n",
            "3/3 [==============================] - 0s 51ms/step - loss: 0.2555 - accuracy: 0.9539 - val_loss: 0.2556 - val_accuracy: 0.9557\n",
            "\n",
            "Epoch 00007: val_loss improved from 0.26321 to 0.25557, saving model to model_for_nuclei.h5\n",
            "Epoch 8/100\n",
            "3/3 [==============================] - 0s 54ms/step - loss: 0.2467 - accuracy: 0.9542 - val_loss: 0.2522 - val_accuracy: 0.9557\n",
            "\n",
            "Epoch 00008: val_loss improved from 0.25557 to 0.25220, saving model to model_for_nuclei.h5\n",
            "Epoch 9/100\n",
            "3/3 [==============================] - 0s 53ms/step - loss: 0.2496 - accuracy: 0.9544 - val_loss: 0.2472 - val_accuracy: 0.9557\n",
            "\n",
            "Epoch 00009: val_loss improved from 0.25220 to 0.24724, saving model to model_for_nuclei.h5\n",
            "Epoch 10/100\n",
            "3/3 [==============================] - 0s 58ms/step - loss: 0.2270 - accuracy: 0.9568 - val_loss: 0.2384 - val_accuracy: 0.9557\n",
            "\n",
            "Epoch 00010: val_loss improved from 0.24724 to 0.23841, saving model to model_for_nuclei.h5\n",
            "Epoch 11/100\n",
            "3/3 [==============================] - 0s 53ms/step - loss: 0.2279 - accuracy: 0.9544 - val_loss: 0.2344 - val_accuracy: 0.9557\n",
            "\n",
            "Epoch 00011: val_loss improved from 0.23841 to 0.23438, saving model to model_for_nuclei.h5\n",
            "Epoch 12/100\n",
            "3/3 [==============================] - 0s 52ms/step - loss: 0.2028 - accuracy: 0.9582 - val_loss: 0.2240 - val_accuracy: 0.9557\n",
            "\n",
            "Epoch 00012: val_loss improved from 0.23438 to 0.22397, saving model to model_for_nuclei.h5\n",
            "Epoch 13/100\n",
            "3/3 [==============================] - 0s 51ms/step - loss: 0.2007 - accuracy: 0.9561 - val_loss: 0.2129 - val_accuracy: 0.9557\n",
            "\n",
            "Epoch 00013: val_loss improved from 0.22397 to 0.21288, saving model to model_for_nuclei.h5\n",
            "Epoch 14/100\n",
            "3/3 [==============================] - 0s 51ms/step - loss: 0.2038 - accuracy: 0.9559 - val_loss: 0.2372 - val_accuracy: 0.9557\n",
            "\n",
            "Epoch 00014: val_loss did not improve from 0.21288\n",
            "Epoch 15/100\n",
            "3/3 [==============================] - 0s 54ms/step - loss: 0.2001 - accuracy: 0.9554 - val_loss: 0.2249 - val_accuracy: 0.9557\n",
            "\n",
            "Epoch 00015: val_loss did not improve from 0.21288\n",
            "Epoch 16/100\n",
            "3/3 [==============================] - 0s 53ms/step - loss: 0.1946 - accuracy: 0.9558 - val_loss: 0.2060 - val_accuracy: 0.9557\n",
            "\n",
            "Epoch 00016: val_loss improved from 0.21288 to 0.20598, saving model to model_for_nuclei.h5\n",
            "Epoch 17/100\n",
            "3/3 [==============================] - 0s 53ms/step - loss: 0.1778 - accuracy: 0.9597 - val_loss: 0.2156 - val_accuracy: 0.9557\n",
            "\n",
            "Epoch 00017: val_loss did not improve from 0.20598\n",
            "Epoch 18/100\n",
            "3/3 [==============================] - 0s 50ms/step - loss: 0.1871 - accuracy: 0.9559 - val_loss: 0.2008 - val_accuracy: 0.9557\n",
            "\n",
            "Epoch 00018: val_loss improved from 0.20598 to 0.20081, saving model to model_for_nuclei.h5\n",
            "Epoch 19/100\n",
            "3/3 [==============================] - 0s 51ms/step - loss: 0.1855 - accuracy: 0.9545 - val_loss: 0.1970 - val_accuracy: 0.9557\n",
            "\n",
            "Epoch 00019: val_loss improved from 0.20081 to 0.19700, saving model to model_for_nuclei.h5\n",
            "Epoch 20/100\n",
            "3/3 [==============================] - 0s 52ms/step - loss: 0.1732 - accuracy: 0.9580 - val_loss: 0.2003 - val_accuracy: 0.9557\n",
            "\n",
            "Epoch 00020: val_loss did not improve from 0.19700\n",
            "Epoch 21/100\n",
            "3/3 [==============================] - 0s 50ms/step - loss: 0.1677 - accuracy: 0.9565 - val_loss: 0.1808 - val_accuracy: 0.9557\n",
            "\n",
            "Epoch 00021: val_loss improved from 0.19700 to 0.18081, saving model to model_for_nuclei.h5\n",
            "Epoch 22/100\n",
            "3/3 [==============================] - 0s 52ms/step - loss: 0.1661 - accuracy: 0.9538 - val_loss: 0.1608 - val_accuracy: 0.9557\n",
            "\n",
            "Epoch 00022: val_loss improved from 0.18081 to 0.16078, saving model to model_for_nuclei.h5\n",
            "Epoch 23/100\n",
            "3/3 [==============================] - 0s 54ms/step - loss: 0.1502 - accuracy: 0.9569 - val_loss: 0.1777 - val_accuracy: 0.9557\n",
            "\n",
            "Epoch 00023: val_loss did not improve from 0.16078\n",
            "Epoch 24/100\n",
            "3/3 [==============================] - 0s 50ms/step - loss: 0.1628 - accuracy: 0.9569 - val_loss: 0.2109 - val_accuracy: 0.9557\n",
            "\n",
            "Epoch 00024: val_loss did not improve from 0.16078\n",
            "Epoch 25/100\n",
            "3/3 [==============================] - 0s 50ms/step - loss: 0.1797 - accuracy: 0.9594 - val_loss: 0.2403 - val_accuracy: 0.9557\n",
            "\n",
            "Epoch 00025: val_loss did not improve from 0.16078\n"
          ],
          "name": "stdout"
        }
      ]
    },
    {
      "cell_type": "code",
      "metadata": {
        "colab": {
          "base_uri": "https://localhost:8080/",
          "height": 779
        },
        "id": "GmPGIQ3o2iHa",
        "outputId": "a41e2ede-f95e-4a7c-b532-0d421e4af7d4"
      },
      "source": [
        "idx = random.randint(0, len(X_train))\r\n",
        "\r\n",
        "preds_train = model.predict(X_train[:int(X_train.shape[0]*0.9)], verbose=1)\r\n",
        "preds_val = model.predict(X_train[int(X_train.shape[0]*0.9)], verbose=1)\r\n",
        "preds_test = model.predict(X_test, verbose=1)\r\n",
        "\r\n",
        "preds_train_t = (preds_train > 0.5).astype(np.uint8)\r\n",
        "preds_val_t = (preds_val > 0.5).astype(np.uint8)\r\n",
        "preds_test_t = (preds_test> 0.5).astype(np.uint8)\r\n",
        "\r\n",
        "#perform a sanity check on same random training samples\r\n",
        "\r\n",
        "ix = random.randint(0, len(preds_train_t))\r\n",
        "imshow(X_train[ix])\r\n",
        "ptl.show()\r\n",
        "imshow(np.squeeze(Y_train[ix]))\r\n",
        "ptl.show()\r\n",
        "imshow(np.squeeze(preds_train_t[ix]))\r\n",
        "ptl.show()\r\n",
        "\r\n",
        "#perform a sanity check on same random validation samples\r\n",
        "\r\n",
        "ix = random.randint(0, len(preds_val_t))\r\n",
        "imshow(X_train[int(X_train.shape[0]*0.9):][ix])\r\n",
        "ptl.show()\r\n",
        "imshow(np.squeeze(Y_train[int(Y_train.shape[0]*0.9):][ix]))\r\n",
        "ptl.show()\r\n",
        "imshow(np.squeeze(preds_val_t[ix]))\r\n",
        "ptl.show()"
      ],
      "execution_count": null,
      "outputs": [
        {
          "output_type": "stream",
          "text": [
            "2/2 [==============================] - 0s 36ms/step\n"
          ],
          "name": "stdout"
        },
        {
          "output_type": "error",
          "ename": "ValueError",
          "evalue": "ignored",
          "traceback": [
            "\u001b[0;31m---------------------------------------------------------------------------\u001b[0m",
            "\u001b[0;31mValueError\u001b[0m                                Traceback (most recent call last)",
            "\u001b[0;32m<ipython-input-25-816de48f28e4>\u001b[0m in \u001b[0;36m<module>\u001b[0;34m()\u001b[0m\n\u001b[1;32m      2\u001b[0m \u001b[0;34m\u001b[0m\u001b[0m\n\u001b[1;32m      3\u001b[0m \u001b[0mpreds_train\u001b[0m \u001b[0;34m=\u001b[0m \u001b[0mmodel\u001b[0m\u001b[0;34m.\u001b[0m\u001b[0mpredict\u001b[0m\u001b[0;34m(\u001b[0m\u001b[0mX_train\u001b[0m\u001b[0;34m[\u001b[0m\u001b[0;34m:\u001b[0m\u001b[0mint\u001b[0m\u001b[0;34m(\u001b[0m\u001b[0mX_train\u001b[0m\u001b[0;34m.\u001b[0m\u001b[0mshape\u001b[0m\u001b[0;34m[\u001b[0m\u001b[0;36m0\u001b[0m\u001b[0;34m]\u001b[0m\u001b[0;34m*\u001b[0m\u001b[0;36m0.9\u001b[0m\u001b[0;34m)\u001b[0m\u001b[0;34m]\u001b[0m\u001b[0;34m,\u001b[0m \u001b[0mverbose\u001b[0m\u001b[0;34m=\u001b[0m\u001b[0;36m1\u001b[0m\u001b[0;34m)\u001b[0m\u001b[0;34m\u001b[0m\u001b[0;34m\u001b[0m\u001b[0m\n\u001b[0;32m----> 4\u001b[0;31m \u001b[0mpreds_val\u001b[0m \u001b[0;34m=\u001b[0m \u001b[0mmodel\u001b[0m\u001b[0;34m.\u001b[0m\u001b[0mpredict\u001b[0m\u001b[0;34m(\u001b[0m\u001b[0mX_train\u001b[0m\u001b[0;34m[\u001b[0m\u001b[0mint\u001b[0m\u001b[0;34m(\u001b[0m\u001b[0mX_train\u001b[0m\u001b[0;34m.\u001b[0m\u001b[0mshape\u001b[0m\u001b[0;34m[\u001b[0m\u001b[0;36m0\u001b[0m\u001b[0;34m]\u001b[0m\u001b[0;34m*\u001b[0m\u001b[0;36m0.9\u001b[0m\u001b[0;34m)\u001b[0m\u001b[0;34m]\u001b[0m\u001b[0;34m,\u001b[0m \u001b[0mverbose\u001b[0m\u001b[0;34m=\u001b[0m\u001b[0;36m1\u001b[0m\u001b[0;34m)\u001b[0m\u001b[0;34m\u001b[0m\u001b[0;34m\u001b[0m\u001b[0m\n\u001b[0m\u001b[1;32m      5\u001b[0m \u001b[0mpreds_test\u001b[0m \u001b[0;34m=\u001b[0m \u001b[0mmodel\u001b[0m\u001b[0;34m.\u001b[0m\u001b[0mpredict\u001b[0m\u001b[0;34m(\u001b[0m\u001b[0mX_test\u001b[0m\u001b[0;34m,\u001b[0m \u001b[0mverbose\u001b[0m\u001b[0;34m=\u001b[0m\u001b[0;36m1\u001b[0m\u001b[0;34m)\u001b[0m\u001b[0;34m\u001b[0m\u001b[0;34m\u001b[0m\u001b[0m\n\u001b[1;32m      6\u001b[0m \u001b[0;34m\u001b[0m\u001b[0m\n",
            "\u001b[0;32m/usr/local/lib/python3.6/dist-packages/tensorflow/python/keras/engine/training.py\u001b[0m in \u001b[0;36mpredict\u001b[0;34m(self, x, batch_size, verbose, steps, callbacks, max_queue_size, workers, use_multiprocessing)\u001b[0m\n\u001b[1;32m   1627\u001b[0m           \u001b[0;32mfor\u001b[0m \u001b[0mstep\u001b[0m \u001b[0;32min\u001b[0m \u001b[0mdata_handler\u001b[0m\u001b[0;34m.\u001b[0m\u001b[0msteps\u001b[0m\u001b[0;34m(\u001b[0m\u001b[0;34m)\u001b[0m\u001b[0;34m:\u001b[0m\u001b[0;34m\u001b[0m\u001b[0;34m\u001b[0m\u001b[0m\n\u001b[1;32m   1628\u001b[0m             \u001b[0mcallbacks\u001b[0m\u001b[0;34m.\u001b[0m\u001b[0mon_predict_batch_begin\u001b[0m\u001b[0;34m(\u001b[0m\u001b[0mstep\u001b[0m\u001b[0;34m)\u001b[0m\u001b[0;34m\u001b[0m\u001b[0;34m\u001b[0m\u001b[0m\n\u001b[0;32m-> 1629\u001b[0;31m             \u001b[0mtmp_batch_outputs\u001b[0m \u001b[0;34m=\u001b[0m \u001b[0mself\u001b[0m\u001b[0;34m.\u001b[0m\u001b[0mpredict_function\u001b[0m\u001b[0;34m(\u001b[0m\u001b[0miterator\u001b[0m\u001b[0;34m)\u001b[0m\u001b[0;34m\u001b[0m\u001b[0;34m\u001b[0m\u001b[0m\n\u001b[0m\u001b[1;32m   1630\u001b[0m             \u001b[0;32mif\u001b[0m \u001b[0mdata_handler\u001b[0m\u001b[0;34m.\u001b[0m\u001b[0mshould_sync\u001b[0m\u001b[0;34m:\u001b[0m\u001b[0;34m\u001b[0m\u001b[0;34m\u001b[0m\u001b[0m\n\u001b[1;32m   1631\u001b[0m               \u001b[0mcontext\u001b[0m\u001b[0;34m.\u001b[0m\u001b[0masync_wait\u001b[0m\u001b[0;34m(\u001b[0m\u001b[0;34m)\u001b[0m\u001b[0;34m\u001b[0m\u001b[0;34m\u001b[0m\u001b[0m\n",
            "\u001b[0;32m/usr/local/lib/python3.6/dist-packages/tensorflow/python/eager/def_function.py\u001b[0m in \u001b[0;36m__call__\u001b[0;34m(self, *args, **kwds)\u001b[0m\n\u001b[1;32m    826\u001b[0m     \u001b[0mtracing_count\u001b[0m \u001b[0;34m=\u001b[0m \u001b[0mself\u001b[0m\u001b[0;34m.\u001b[0m\u001b[0mexperimental_get_tracing_count\u001b[0m\u001b[0;34m(\u001b[0m\u001b[0;34m)\u001b[0m\u001b[0;34m\u001b[0m\u001b[0;34m\u001b[0m\u001b[0m\n\u001b[1;32m    827\u001b[0m     \u001b[0;32mwith\u001b[0m \u001b[0mtrace\u001b[0m\u001b[0;34m.\u001b[0m\u001b[0mTrace\u001b[0m\u001b[0;34m(\u001b[0m\u001b[0mself\u001b[0m\u001b[0;34m.\u001b[0m\u001b[0m_name\u001b[0m\u001b[0;34m)\u001b[0m \u001b[0;32mas\u001b[0m \u001b[0mtm\u001b[0m\u001b[0;34m:\u001b[0m\u001b[0;34m\u001b[0m\u001b[0;34m\u001b[0m\u001b[0m\n\u001b[0;32m--> 828\u001b[0;31m       \u001b[0mresult\u001b[0m \u001b[0;34m=\u001b[0m \u001b[0mself\u001b[0m\u001b[0;34m.\u001b[0m\u001b[0m_call\u001b[0m\u001b[0;34m(\u001b[0m\u001b[0;34m*\u001b[0m\u001b[0margs\u001b[0m\u001b[0;34m,\u001b[0m \u001b[0;34m**\u001b[0m\u001b[0mkwds\u001b[0m\u001b[0;34m)\u001b[0m\u001b[0;34m\u001b[0m\u001b[0;34m\u001b[0m\u001b[0m\n\u001b[0m\u001b[1;32m    829\u001b[0m       \u001b[0mcompiler\u001b[0m \u001b[0;34m=\u001b[0m \u001b[0;34m\"xla\"\u001b[0m \u001b[0;32mif\u001b[0m \u001b[0mself\u001b[0m\u001b[0;34m.\u001b[0m\u001b[0m_experimental_compile\u001b[0m \u001b[0;32melse\u001b[0m \u001b[0;34m\"nonXla\"\u001b[0m\u001b[0;34m\u001b[0m\u001b[0;34m\u001b[0m\u001b[0m\n\u001b[1;32m    830\u001b[0m       \u001b[0mnew_tracing_count\u001b[0m \u001b[0;34m=\u001b[0m \u001b[0mself\u001b[0m\u001b[0;34m.\u001b[0m\u001b[0mexperimental_get_tracing_count\u001b[0m\u001b[0;34m(\u001b[0m\u001b[0;34m)\u001b[0m\u001b[0;34m\u001b[0m\u001b[0;34m\u001b[0m\u001b[0m\n",
            "\u001b[0;32m/usr/local/lib/python3.6/dist-packages/tensorflow/python/eager/def_function.py\u001b[0m in \u001b[0;36m_call\u001b[0;34m(self, *args, **kwds)\u001b[0m\n\u001b[1;32m    860\u001b[0m       \u001b[0;31m# In this case we have not created variables on the first call. So we can\u001b[0m\u001b[0;34m\u001b[0m\u001b[0;34m\u001b[0m\u001b[0;34m\u001b[0m\u001b[0m\n\u001b[1;32m    861\u001b[0m       \u001b[0;31m# run the first trace but we should fail if variables are created.\u001b[0m\u001b[0;34m\u001b[0m\u001b[0;34m\u001b[0m\u001b[0;34m\u001b[0m\u001b[0m\n\u001b[0;32m--> 862\u001b[0;31m       \u001b[0mresults\u001b[0m \u001b[0;34m=\u001b[0m \u001b[0mself\u001b[0m\u001b[0;34m.\u001b[0m\u001b[0m_stateful_fn\u001b[0m\u001b[0;34m(\u001b[0m\u001b[0;34m*\u001b[0m\u001b[0margs\u001b[0m\u001b[0;34m,\u001b[0m \u001b[0;34m**\u001b[0m\u001b[0mkwds\u001b[0m\u001b[0;34m)\u001b[0m\u001b[0;34m\u001b[0m\u001b[0;34m\u001b[0m\u001b[0m\n\u001b[0m\u001b[1;32m    863\u001b[0m       \u001b[0;32mif\u001b[0m \u001b[0mself\u001b[0m\u001b[0;34m.\u001b[0m\u001b[0m_created_variables\u001b[0m\u001b[0;34m:\u001b[0m\u001b[0;34m\u001b[0m\u001b[0;34m\u001b[0m\u001b[0m\n\u001b[1;32m    864\u001b[0m         raise ValueError(\"Creating variables on a non-first call to a function\"\n",
            "\u001b[0;32m/usr/local/lib/python3.6/dist-packages/tensorflow/python/eager/function.py\u001b[0m in \u001b[0;36m__call__\u001b[0;34m(self, *args, **kwargs)\u001b[0m\n\u001b[1;32m   2939\u001b[0m     \u001b[0;32mwith\u001b[0m \u001b[0mself\u001b[0m\u001b[0;34m.\u001b[0m\u001b[0m_lock\u001b[0m\u001b[0;34m:\u001b[0m\u001b[0;34m\u001b[0m\u001b[0;34m\u001b[0m\u001b[0m\n\u001b[1;32m   2940\u001b[0m       (graph_function,\n\u001b[0;32m-> 2941\u001b[0;31m        filtered_flat_args) = self._maybe_define_function(args, kwargs)\n\u001b[0m\u001b[1;32m   2942\u001b[0m     return graph_function._call_flat(\n\u001b[1;32m   2943\u001b[0m         filtered_flat_args, captured_inputs=graph_function.captured_inputs)  # pylint: disable=protected-access\n",
            "\u001b[0;32m/usr/local/lib/python3.6/dist-packages/tensorflow/python/eager/function.py\u001b[0m in \u001b[0;36m_maybe_define_function\u001b[0;34m(self, args, kwargs)\u001b[0m\n\u001b[1;32m   3356\u001b[0m               call_context_key in self._function_cache.missed):\n\u001b[1;32m   3357\u001b[0m             return self._define_function_with_shape_relaxation(\n\u001b[0;32m-> 3358\u001b[0;31m                 args, kwargs, flat_args, filtered_flat_args, cache_key_context)\n\u001b[0m\u001b[1;32m   3359\u001b[0m \u001b[0;34m\u001b[0m\u001b[0m\n\u001b[1;32m   3360\u001b[0m           \u001b[0mself\u001b[0m\u001b[0;34m.\u001b[0m\u001b[0m_function_cache\u001b[0m\u001b[0;34m.\u001b[0m\u001b[0mmissed\u001b[0m\u001b[0;34m.\u001b[0m\u001b[0madd\u001b[0m\u001b[0;34m(\u001b[0m\u001b[0mcall_context_key\u001b[0m\u001b[0;34m)\u001b[0m\u001b[0;34m\u001b[0m\u001b[0;34m\u001b[0m\u001b[0m\n",
            "\u001b[0;32m/usr/local/lib/python3.6/dist-packages/tensorflow/python/eager/function.py\u001b[0m in \u001b[0;36m_define_function_with_shape_relaxation\u001b[0;34m(self, args, kwargs, flat_args, filtered_flat_args, cache_key_context)\u001b[0m\n\u001b[1;32m   3278\u001b[0m \u001b[0;34m\u001b[0m\u001b[0m\n\u001b[1;32m   3279\u001b[0m     graph_function = self._create_graph_function(\n\u001b[0;32m-> 3280\u001b[0;31m         args, kwargs, override_flat_arg_shapes=relaxed_arg_shapes)\n\u001b[0m\u001b[1;32m   3281\u001b[0m     \u001b[0mself\u001b[0m\u001b[0;34m.\u001b[0m\u001b[0m_function_cache\u001b[0m\u001b[0;34m.\u001b[0m\u001b[0marg_relaxed\u001b[0m\u001b[0;34m[\u001b[0m\u001b[0mrank_only_cache_key\u001b[0m\u001b[0;34m]\u001b[0m \u001b[0;34m=\u001b[0m \u001b[0mgraph_function\u001b[0m\u001b[0;34m\u001b[0m\u001b[0;34m\u001b[0m\u001b[0m\n\u001b[1;32m   3282\u001b[0m \u001b[0;34m\u001b[0m\u001b[0m\n",
            "\u001b[0;32m/usr/local/lib/python3.6/dist-packages/tensorflow/python/eager/function.py\u001b[0m in \u001b[0;36m_create_graph_function\u001b[0;34m(self, args, kwargs, override_flat_arg_shapes)\u001b[0m\n\u001b[1;32m   3204\u001b[0m             \u001b[0marg_names\u001b[0m\u001b[0;34m=\u001b[0m\u001b[0marg_names\u001b[0m\u001b[0;34m,\u001b[0m\u001b[0;34m\u001b[0m\u001b[0;34m\u001b[0m\u001b[0m\n\u001b[1;32m   3205\u001b[0m             \u001b[0moverride_flat_arg_shapes\u001b[0m\u001b[0;34m=\u001b[0m\u001b[0moverride_flat_arg_shapes\u001b[0m\u001b[0;34m,\u001b[0m\u001b[0;34m\u001b[0m\u001b[0;34m\u001b[0m\u001b[0m\n\u001b[0;32m-> 3206\u001b[0;31m             capture_by_value=self._capture_by_value),\n\u001b[0m\u001b[1;32m   3207\u001b[0m         \u001b[0mself\u001b[0m\u001b[0;34m.\u001b[0m\u001b[0m_function_attributes\u001b[0m\u001b[0;34m,\u001b[0m\u001b[0;34m\u001b[0m\u001b[0;34m\u001b[0m\u001b[0m\n\u001b[1;32m   3208\u001b[0m         \u001b[0mfunction_spec\u001b[0m\u001b[0;34m=\u001b[0m\u001b[0mself\u001b[0m\u001b[0;34m.\u001b[0m\u001b[0mfunction_spec\u001b[0m\u001b[0;34m,\u001b[0m\u001b[0;34m\u001b[0m\u001b[0;34m\u001b[0m\u001b[0m\n",
            "\u001b[0;32m/usr/local/lib/python3.6/dist-packages/tensorflow/python/framework/func_graph.py\u001b[0m in \u001b[0;36mfunc_graph_from_py_func\u001b[0;34m(name, python_func, args, kwargs, signature, func_graph, autograph, autograph_options, add_control_dependencies, arg_names, op_return_value, collections, capture_by_value, override_flat_arg_shapes)\u001b[0m\n\u001b[1;32m    988\u001b[0m         \u001b[0m_\u001b[0m\u001b[0;34m,\u001b[0m \u001b[0moriginal_func\u001b[0m \u001b[0;34m=\u001b[0m \u001b[0mtf_decorator\u001b[0m\u001b[0;34m.\u001b[0m\u001b[0munwrap\u001b[0m\u001b[0;34m(\u001b[0m\u001b[0mpython_func\u001b[0m\u001b[0;34m)\u001b[0m\u001b[0;34m\u001b[0m\u001b[0;34m\u001b[0m\u001b[0m\n\u001b[1;32m    989\u001b[0m \u001b[0;34m\u001b[0m\u001b[0m\n\u001b[0;32m--> 990\u001b[0;31m       \u001b[0mfunc_outputs\u001b[0m \u001b[0;34m=\u001b[0m \u001b[0mpython_func\u001b[0m\u001b[0;34m(\u001b[0m\u001b[0;34m*\u001b[0m\u001b[0mfunc_args\u001b[0m\u001b[0;34m,\u001b[0m \u001b[0;34m**\u001b[0m\u001b[0mfunc_kwargs\u001b[0m\u001b[0;34m)\u001b[0m\u001b[0;34m\u001b[0m\u001b[0;34m\u001b[0m\u001b[0m\n\u001b[0m\u001b[1;32m    991\u001b[0m \u001b[0;34m\u001b[0m\u001b[0m\n\u001b[1;32m    992\u001b[0m       \u001b[0;31m# invariant: `func_outputs` contains only Tensors, CompositeTensors,\u001b[0m\u001b[0;34m\u001b[0m\u001b[0;34m\u001b[0m\u001b[0;34m\u001b[0m\u001b[0m\n",
            "\u001b[0;32m/usr/local/lib/python3.6/dist-packages/tensorflow/python/eager/def_function.py\u001b[0m in \u001b[0;36mwrapped_fn\u001b[0;34m(*args, **kwds)\u001b[0m\n\u001b[1;32m    632\u001b[0m             \u001b[0mxla_context\u001b[0m\u001b[0;34m.\u001b[0m\u001b[0mExit\u001b[0m\u001b[0;34m(\u001b[0m\u001b[0;34m)\u001b[0m\u001b[0;34m\u001b[0m\u001b[0;34m\u001b[0m\u001b[0m\n\u001b[1;32m    633\u001b[0m         \u001b[0;32melse\u001b[0m\u001b[0;34m:\u001b[0m\u001b[0;34m\u001b[0m\u001b[0;34m\u001b[0m\u001b[0m\n\u001b[0;32m--> 634\u001b[0;31m           \u001b[0mout\u001b[0m \u001b[0;34m=\u001b[0m \u001b[0mweak_wrapped_fn\u001b[0m\u001b[0;34m(\u001b[0m\u001b[0;34m)\u001b[0m\u001b[0;34m.\u001b[0m\u001b[0m__wrapped__\u001b[0m\u001b[0;34m(\u001b[0m\u001b[0;34m*\u001b[0m\u001b[0margs\u001b[0m\u001b[0;34m,\u001b[0m \u001b[0;34m**\u001b[0m\u001b[0mkwds\u001b[0m\u001b[0;34m)\u001b[0m\u001b[0;34m\u001b[0m\u001b[0;34m\u001b[0m\u001b[0m\n\u001b[0m\u001b[1;32m    635\u001b[0m         \u001b[0;32mreturn\u001b[0m \u001b[0mout\u001b[0m\u001b[0;34m\u001b[0m\u001b[0;34m\u001b[0m\u001b[0m\n\u001b[1;32m    636\u001b[0m \u001b[0;34m\u001b[0m\u001b[0m\n",
            "\u001b[0;32m/usr/local/lib/python3.6/dist-packages/tensorflow/python/framework/func_graph.py\u001b[0m in \u001b[0;36mwrapper\u001b[0;34m(*args, **kwargs)\u001b[0m\n\u001b[1;32m    975\u001b[0m           \u001b[0;32mexcept\u001b[0m \u001b[0mException\u001b[0m \u001b[0;32mas\u001b[0m \u001b[0me\u001b[0m\u001b[0;34m:\u001b[0m  \u001b[0;31m# pylint:disable=broad-except\u001b[0m\u001b[0;34m\u001b[0m\u001b[0;34m\u001b[0m\u001b[0m\n\u001b[1;32m    976\u001b[0m             \u001b[0;32mif\u001b[0m \u001b[0mhasattr\u001b[0m\u001b[0;34m(\u001b[0m\u001b[0me\u001b[0m\u001b[0;34m,\u001b[0m \u001b[0;34m\"ag_error_metadata\"\u001b[0m\u001b[0;34m)\u001b[0m\u001b[0;34m:\u001b[0m\u001b[0;34m\u001b[0m\u001b[0;34m\u001b[0m\u001b[0m\n\u001b[0;32m--> 977\u001b[0;31m               \u001b[0;32mraise\u001b[0m \u001b[0me\u001b[0m\u001b[0;34m.\u001b[0m\u001b[0mag_error_metadata\u001b[0m\u001b[0;34m.\u001b[0m\u001b[0mto_exception\u001b[0m\u001b[0;34m(\u001b[0m\u001b[0me\u001b[0m\u001b[0;34m)\u001b[0m\u001b[0;34m\u001b[0m\u001b[0;34m\u001b[0m\u001b[0m\n\u001b[0m\u001b[1;32m    978\u001b[0m             \u001b[0;32melse\u001b[0m\u001b[0;34m:\u001b[0m\u001b[0;34m\u001b[0m\u001b[0;34m\u001b[0m\u001b[0m\n\u001b[1;32m    979\u001b[0m               \u001b[0;32mraise\u001b[0m\u001b[0;34m\u001b[0m\u001b[0;34m\u001b[0m\u001b[0m\n",
            "\u001b[0;31mValueError\u001b[0m: in user code:\n\n    /usr/local/lib/python3.6/dist-packages/tensorflow/python/keras/engine/training.py:1478 predict_function  *\n        return step_function(self, iterator)\n    /usr/local/lib/python3.6/dist-packages/tensorflow/python/keras/engine/training.py:1468 step_function  **\n        outputs = model.distribute_strategy.run(run_step, args=(data,))\n    /usr/local/lib/python3.6/dist-packages/tensorflow/python/distribute/distribute_lib.py:1259 run\n        return self._extended.call_for_each_replica(fn, args=args, kwargs=kwargs)\n    /usr/local/lib/python3.6/dist-packages/tensorflow/python/distribute/distribute_lib.py:2730 call_for_each_replica\n        return self._call_for_each_replica(fn, args, kwargs)\n    /usr/local/lib/python3.6/dist-packages/tensorflow/python/distribute/distribute_lib.py:3417 _call_for_each_replica\n        return fn(*args, **kwargs)\n    /usr/local/lib/python3.6/dist-packages/tensorflow/python/keras/engine/training.py:1461 run_step  **\n        outputs = model.predict_step(data)\n    /usr/local/lib/python3.6/dist-packages/tensorflow/python/keras/engine/training.py:1434 predict_step\n        return self(x, training=False)\n    /usr/local/lib/python3.6/dist-packages/tensorflow/python/keras/engine/base_layer.py:998 __call__\n        input_spec.assert_input_compatibility(self.input_spec, inputs, self.name)\n    /usr/local/lib/python3.6/dist-packages/tensorflow/python/keras/engine/input_spec.py:274 assert_input_compatibility\n        ', found shape=' + display_shape(x.shape))\n\n    ValueError: Input 0 is incompatible with layer model_2: expected shape=(None, 128, 128, 3), found shape=(32, 128, 3)\n"
          ]
        }
      ]
    }
  ]
}